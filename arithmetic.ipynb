{
 "cells": [
  {
   "cell_type": "code",
   "execution_count": 145,
   "id": "e2261191",
   "metadata": {},
   "outputs": [
    {
     "name": "stdout",
     "output_type": "stream",
     "text": [
      "RPN: 3 4 2 * 1 5 - / +\n"
     ]
    },
    {
     "data": {
      "text/plain": [
       "1.0"
      ]
     },
     "execution_count": 145,
     "metadata": {},
     "output_type": "execute_result"
    }
   ],
   "source": [
    "expression = '3 + 4 * 2 / ( 1 - 5 )'\n",
    "\n",
    "LH = '('\n",
    "RH = ')'\n",
    "\n",
    "# Dictionary to hold the operstor precedence and a \n",
    "# two parameter lambda function for each operator\n",
    "ops = {\n",
    "    '*': {'prec': 2,'op': lambda x,y: float(x) *  float(y)},\n",
    "    '/': {'prec': 2,'op': lambda x,y: float(x) /  float(y)},\n",
    "    '+': {'prec': 1,'op': lambda x,y: float(x) +  float(y)},\n",
    "    '-': {'prec': 1,'op': lambda x,y: float(x) -  float(y)},\n",
    "    '(': {'prec': 0},\n",
    "}\n",
    "\n",
    "# Create the output and operator stacks\n",
    "out_stack = []\n",
    "ops_stack = []\n",
    "\n",
    "def algo(expression):\n",
    "\n",
    "    # While there are expression tokens to be read\n",
    "    for token in expression.split(' '):\n",
    "\n",
    "        # If it's a number add it to the output stack\n",
    "        if token.isdigit():\n",
    "            out_stack.append(token)\n",
    "\n",
    "        # If it's a left bracket\n",
    "        elif token == LH:\n",
    "            # Push it onto the operator stack\n",
    "            ops_stack.append(token)\n",
    "\n",
    "        # If it's a right bracket\n",
    "        elif token == RH:\n",
    "            # While there's not a left bracket at the top of the stack:\n",
    "            while len(ops_stack) > 0 and ops_stack[-1] != LH:\n",
    "                # Pop operators from the operator stack onto the output stack\n",
    "                out_stack.append(ops_stack.pop())\n",
    "            # Pop the left bracket from the operator stack and discard it\n",
    "            ops_stack.pop()\n",
    "\n",
    "        # If it's an operator\n",
    "        elif token in ops:\n",
    "            # While there's an operator on the top of the operator stack with greater precedence:\n",
    "            while len(ops_stack) > 0 and ops[ops_stack[-1]]['prec'] >= ops[token]['prec']:\n",
    "                # Pop operators from the operator stack onto the output queue\n",
    "                out_stack.append(ops_stack.pop())\n",
    "            # Push the current operator onto the stack\n",
    "            ops_stack.append(token)\n",
    "\n",
    "    # While there are operators on the operator stack, pop them to the output stack       \n",
    "    while ops_stack:\n",
    "        out_stack.append(ops_stack.pop())\n",
    "        \n",
    "    return out_stack\n",
    "\n",
    "def evaluate(expression):\n",
    "    print('RPN: %s' % ' '.join(expression))\n",
    "    stack = []\n",
    "    for token in expression:\n",
    "        if token in ops:\n",
    "            arg2 = stack.pop()\n",
    "            arg1 = stack.pop()\n",
    "            result = ops[token]['op'](arg1, arg2)\n",
    "            stack.append(result)\n",
    "        else:\n",
    "            stack.append(int(token))\n",
    "    return stack.pop()\n",
    "\n",
    "evaluate(algo(expression))"
   ]
  }
 ],
 "metadata": {
  "kernelspec": {
   "display_name": "Python 3 (ipykernel)",
   "language": "python",
   "name": "python3"
  },
  "language_info": {
   "codemirror_mode": {
    "name": "ipython",
    "version": 3
   },
   "file_extension": ".py",
   "mimetype": "text/x-python",
   "name": "python",
   "nbconvert_exporter": "python",
   "pygments_lexer": "ipython3",
   "version": "3.9.6"
  }
 },
 "nbformat": 4,
 "nbformat_minor": 5
}
