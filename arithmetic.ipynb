{
 "cells": [
  {
   "cell_type": "markdown",
   "id": "a65251cc",
   "metadata": {},
   "source": [
    "# 1. Simple Integer Arithmetic Problem\n",
    "\n",
    "\n",
    "### 1.1 Problem Statement\n",
    "Write a program that can parse a simple integer arithmetic expression to give an integer result\n",
    "\n",
    "### 1.2 Example\n",
    "\"1 + 2 * 3\" should yield the answer 7.\n",
    "\n",
    "### 1.3 Setup\n",
    "You must be able to run the program such that you can provide the name of a file with one expression per line and for each line output \"<expr> = <answer>\".\n",
    "    \n",
    "### 1.4 Conditions\n",
    "The expression should support operators +, -, *, /, integers, parentheses.\n",
    "\n",
    "Implement and test your solution to illustrate how you would implement production code.\n",
    "\n",
    "You may use 3rd party libraries to implement parts of your solution (e.g. a parser library) but you should not use a 3rd party library that provides the entire solution.\n",
    "\n",
    "You may implement this in any language, ideally .NET, with F#, but any is fine\n",
    "### 1.5 Submission\n",
    "Please submit via GitHub or a similar repository from which the solution can be downloaded."
   ]
  },
  {
   "cell_type": "markdown",
   "id": "4ce79262",
   "metadata": {},
   "source": [
    "# 2. The Shunting Yard Algorithm\n",
    "\n",
    "https://www.cs.utexas.edu/~EWD/MCReps/MR35.PDF\n",
    "\n",
    "Edsger Dijkstra developed his \"Shunting Yard\" algorithm to convert an infix expression into a postfix expression. It uses a stack; but in this case, the stack is used to hold operators rather than numbers. The purpose of the stack is to reverse the order of the operators in the expression. It also serves as a storage structure, since no operator can be printed until both of its operands have appeared.\n",
    "\n",
    "## 2.1 Assumptions\n",
    "\n",
    "- Able to handle both negative and positive integers\n",
    "- The infix notation is parseable and in a consistent format\n",
    "- There is a single space between all values, operators and parenthesis"
   ]
  },
  {
   "cell_type": "markdown",
   "id": "26c85582",
   "metadata": {},
   "source": [
    "## 2.1 Define the arithmetic function\n",
    "The ask is to support a subset of all available mathematical operands. \n",
    "\n",
    "The order of operations (or operator precedence) is a collection of rules that reflect conventions about which procedures to perform first in order to evaluate a given mathematical expression.\n",
    "The order is usually denoted using the acronymn <b>PEMDAS</b> which is as follows: parenthesis, exponents, multiplication, division, addition, subtraction. \n",
    "\n",
    "The relative precedence of each operation is not contiguous as in this example multiplication/division and addition/subtraction share the precedence values"
   ]
  },
  {
   "cell_type": "code",
   "execution_count": 1,
   "id": "2d7a2b71",
   "metadata": {},
   "outputs": [],
   "source": [
    "ops = {\n",
    "    '*': {'prec': 2,'op': lambda x,y: float(x) *  float(y)},\n",
    "    '/': {'prec': 2,'op': lambda x,y: float(x) /  float(y)},\n",
    "    '+': {'prec': 1,'op': lambda x,y: float(x) +  float(y)},\n",
    "    '-': {'prec': 1,'op': lambda x,y: float(x) -  float(y)},\n",
    "    '(': {'prec': 0},\n",
    "}"
   ]
  },
  {
   "cell_type": "markdown",
   "id": "0d970138",
   "metadata": {},
   "source": [
    "### 2.3 Statement of arithmetic method\n",
    "Due to the aforementioned order of operation we need to modify the mathematical notation.\n",
    "In the problem statement we are given an expression written in the <b>infix</b> notation which has no notion of precedence. Moving to a new intermediate format called <b>postfix</b> is a standard way to address this.\n",
    "\n",
    "Using this approach the expression <b>[1 + 2 * 3]</b> becomes <b>[1 2 3 + *]</b> and by applying additional logic involving parenthesis and precedence it becomes a trivial closed-form solution with linear. The approach then is essentially to parse the expression, extract the values and operations into two arrays and evaluate."
   ]
  },
  {
   "cell_type": "code",
   "execution_count": 16,
   "id": "e2261191",
   "metadata": {},
   "outputs": [
    {
     "name": "stdout",
     "output_type": "stream",
     "text": [
      "INFIX: 3 + ( ( 4 * 5 ) ) / ( 1 + 2 ) * 7 + 33 / ( 8 / 9 )\n",
      "RPN: 3 4 5 * 1 2 + / 7 * + 33 8 9 / / +\n"
     ]
    },
    {
     "data": {
      "text/plain": [
       "86.79166666666667"
      ]
     },
     "execution_count": 16,
     "metadata": {},
     "output_type": "execute_result"
    }
   ],
   "source": [
    "out_stack = []\n",
    "ops_stack = []\n",
    "\n",
    "LH = '(' \n",
    "RH = ')'\n",
    "\n",
    "def algo(expression):\n",
    "    print('INFIX:', expression)\n",
    "    # While there are expression tokens to be read\n",
    "    for token in expression.split(' '):\n",
    "        # If it's a number add it to the output stack\n",
    "        if token.lstrip(\"-\").isdigit():\n",
    "            out_stack.append(token)\n",
    "        # If it's a left bracket\n",
    "        elif token == LH:\n",
    "            # Push it onto the operator stack\n",
    "            ops_stack.append(token)\n",
    "        # If it's a right bracket\n",
    "        elif token == RH:\n",
    "            # While there's not a left bracket at the top of the stack:\n",
    "            while len(ops_stack) > 0 and ops_stack[-1] != LH:\n",
    "                # Pop operators from the operator stack onto the output stack\n",
    "                out_stack.append(ops_stack.pop())\n",
    "            # Pop the left bracket from the operator stack and discard it\n",
    "            ops_stack.pop()\n",
    "        # If it's an operator\n",
    "        elif token in ops:\n",
    "            # While there's an operator on the top of the operator stack with greater precedence\n",
    "            while len(ops_stack) > 0 and ops[ops_stack[-1]]['prec'] >= ops[token]['prec']:\n",
    "                # Pop operators from the operator stack onto the output stack\n",
    "                out_stack.append(ops_stack.pop())\n",
    "            # Push the current operator onto the stack\n",
    "            ops_stack.append(token)\n",
    "    # While there are operators on the operator stack, pop them to the output stack       \n",
    "    while ops_stack:\n",
    "        out_stack.append(ops_stack.pop())\n",
    "    return out_stack\n",
    "\n",
    "def evaluate(expression, debug=False):\n",
    "    if debug:\n",
    "        print('RPN: %s' % ' '.join(expression))\n",
    "    stack = []\n",
    "    for token in expression:\n",
    "        if token in ops:\n",
    "            arg2 = stack.pop()\n",
    "            arg1 = stack.pop()\n",
    "            result = ops[token]['op'](arg1, arg2)\n",
    "            stack.append(result)\n",
    "        else:\n",
    "            stack.append(int(token))\n",
    "    return stack.pop()\n",
    "\n",
    "expression = '1 + 3 / ( 4 * 2 ) / ( 1 - 5 )'\n",
    "expression = '3 + ( ( 4 * 5 ) ) / ( 1 + 2 ) * 7 + 33 / ( 8 / 9 )'\n",
    "\n",
    "evaluate(algo(expression), True)"
   ]
  }
 ],
 "metadata": {
  "kernelspec": {
   "display_name": "Python 3 (ipykernel)",
   "language": "python",
   "name": "python3"
  },
  "language_info": {
   "codemirror_mode": {
    "name": "ipython",
    "version": 3
   },
   "file_extension": ".py",
   "mimetype": "text/x-python",
   "name": "python",
   "nbconvert_exporter": "python",
   "pygments_lexer": "ipython3",
   "version": "3.9.6"
  }
 },
 "nbformat": 4,
 "nbformat_minor": 5
}
