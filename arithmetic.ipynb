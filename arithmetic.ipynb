{
 "cells": [
  {
   "cell_type": "markdown",
   "id": "77ad988a",
   "metadata": {},
   "source": [
    "# 1. Simple Integer Arithmetic Problem\n",
    "\n",
    "\n",
    "### 1.1 Problem Statement\n",
    "Write a program that can parse a simple integer arithmetic expression to give an integer result\n",
    "\n",
    "### 1.2 Example\n",
    "\"1 + 2 * 3\" should yield the answer 7.\n",
    "\n",
    "### 1.3 Setup\n",
    "You must be able to run the program such that you can provide the name of a file with one expression per line and for each line output \"<expr> = <answer>\".\n",
    "    \n",
    "### 1.4 Conditions\n",
    "The expression should support operators +, -, *, /, integers, parentheses.\n",
    "\n",
    "Implement and test your solution to illustrate how you would implement production code.\n",
    "\n",
    "You may use 3rd party libraries to implement parts of your solution (e.g. a parser library) but you should not use a 3rd party library that provides the entire solution.\n",
    "\n",
    "You may implement this in any language, ideally .NET, with F#, but any is fine\n",
    "### 1.5 Submission\n",
    "Please submit via GitHub or a similar repository from which the solution can be downloaded."
   ]
  },
  {
   "cell_type": "markdown",
   "id": "0380f403",
   "metadata": {},
   "source": [
    "# 2. Solution Statement\n",
    "\n",
    "The ask is to support a subset of all available mathematical operands. In mathematics, the order of the operators in an expression is important. For example:\n",
    "\n",
    "- expression: 1 + 2 * 3\n",
    "\n",
    "With no formal rule on operator precedence, this could be evaluated in two ways:\n",
    "\n",
    "- method 1: Add 1 to 2 to give 3, then multiple 3 by 3. Answer 9\n",
    "- method 2: Multiple 2 by 3 to give 6, then add 1. Answer 7.\n",
    "\n",
    "Method 2 is the correct approach as it follows the <b>operator precedence</b> rule, which is in itself a collection of rules that state the order precedence. They are as follows:\n",
    "    \n",
    "- exponentiation and root extraction\n",
    "- multiplication and division\n",
    "- addition and subtraction\n",
    "\n",
    "In the expression example we are given 1 + 2 * 3. This notation is called <b>infix</b>. \n",
    "The expression of the form a b op. When an operator is followed for every pair of operands. \n",
    "\n",
    "This is the traditional way we create mathematical expressions, but it is difficult for a computer to use when handling operator precedence and dealing with parenthesis. A more suitable notation is called <b>postfix</b> expression. The <b>postfix</b> expression is of the form a b op. When an operator is followed for every pair of operands. This notation is easier todeal with as it allows the <b>operands</b> and <b>operators</b> to be added in stack like structures in a specific order. This means that \"1 + 1\" becomes \"1 1 +\""
   ]
  },
  {
   "cell_type": "markdown",
   "id": "5a8ed30a",
   "metadata": {},
   "source": [
    "## 2.1 Expression Conversion\n",
    "\n",
    "The mechanism to create a postfix notation from an infix notation was developed by <b>Edsger Dijkstra</b> in 1961 and can be found in the following paper https://www.cs.utexas.edu/~EWD/MCReps/MR35.PDF\n",
    "\n",
    "As previously mentioned, this approach uses stacks to reverse the order of the operators in the expression. d.\n",
    "\n",
    "## 2.2 Assumptions\n",
    "\n",
    "- Able to handle both negative and positive integers\n",
    "- The infix notation is parseable and in a consistent format\n",
    "- The expression generator adds a single space between all values, operators and parenthesis"
   ]
  },
  {
   "cell_type": "markdown",
   "id": "b7fd3712",
   "metadata": {},
   "source": [
    "# 3 Solution Implementation \n",
    "\n",
    "The following operator dictionary servers dual purposes. It will return the operator precedence when asked and will also provide a lambd function which is ultimately used to execute the calculate the integer values. The ask is to support a subset of all available mathematical operands with no first order functions supported.\n",
    "\n",
    "<i>Note the question stated the results should be integers and therefore no floating point calculations will be used</i>."
   ]
  },
  {
   "cell_type": "code",
   "execution_count": 170,
   "id": "d5c2cc12",
   "metadata": {},
   "outputs": [],
   "source": [
    "ops = {\n",
    "    '*': {'prec': 2,'op': lambda x,y: x * y},\n",
    "    '/': {'prec': 2,'op': lambda x,y: x / y},\n",
    "    '+': {'prec': 1,'op': lambda x,y: x + y},\n",
    "    '-': {'prec': 1,'op': lambda x,y: x -  y},\n",
    "    '(': {'prec': 0},\n",
    "}"
   ]
  },
  {
   "cell_type": "markdown",
   "id": "5d3e0fdf",
   "metadata": {},
   "source": [
    "### 3.1 Shunting Yard Algorithm\n",
    "\n",
    "This is the algorithm I will use to perform the expression translation to <b>postfix</b>. The details of the algorithm are illuminated in the comments that describe each step. Essentially it is forward traversal through all the tokens in the expression string, assigning them to either an operator stack or an output stack (holds the operands). Then, using the operator precedence rule some operators and popped to the end of the outoput stack and this is also the case when dealing with parenthesis as they have a higher precedence than the four operators we are using. This gives the algorithm its \"shunting yard\" name as it is similar to the method in which trains and moved to seperate tracks.\n",
    "\n",
    "I have also added a check to ensure there are matching opening/closing parenthesis."
   ]
  },
  {
   "cell_type": "code",
   "execution_count": 114,
   "id": "e2261191",
   "metadata": {},
   "outputs": [],
   "source": [
    "LH = '(' \n",
    "RH = ')'\n",
    "\n",
    "def algo(expression, debug = False):\n",
    "    \n",
    "    out_stack = []\n",
    "    ops_stack = []\n",
    "    \n",
    "    if debug:\n",
    "        print('INFIX:', expression)\n",
    "    \n",
    "    # Check matching parenthesis\n",
    "    lhs = sum(c == '(' for c in expression)\n",
    "    rhs = sum(c == ')' for c in expression)\n",
    "    if lhs != rhs:\n",
    "        raise Exception('Unable to parse INFIX due to unmatched parenthesis')\n",
    "    \n",
    "    # While there are expression tokens to be read\n",
    "    for token in expression.split(' '):\n",
    "        \n",
    "        # If it's a number add it to the output stack\n",
    "        if token.lstrip(\"-\").isdigit():\n",
    "            out_stack.append(token)\n",
    "            \n",
    "        # If it's a left bracket\n",
    "        elif token == LH:\n",
    "            # Push it onto the operator stack\n",
    "            ops_stack.append(token)\n",
    "            \n",
    "        # If it's a right bracket\n",
    "        elif token == RH:\n",
    "            # While there's not a left bracket at the top of the stack:\n",
    "            while len(ops_stack) > 0 and ops_stack[-1] != LH:\n",
    "                # Pop operators from the operator stack onto the output stack\n",
    "                out_stack.append(ops_stack.pop())\n",
    "            # Pop the left bracket from the operator stack and discard it\n",
    "            ops_stack.pop()\n",
    "            \n",
    "        # If it's an operator\n",
    "        elif token in ops:\n",
    "            # While there's an operator on the top of the operator stack with greater precedence\n",
    "            while len(ops_stack) > 0 and ops[ops_stack[-1]]['prec'] >= ops[token]['prec']:\n",
    "                # Pop operators from the operator stack onto the output stack\n",
    "                out_stack.append(ops_stack.pop())\n",
    "            # Push the current operator onto the stack\n",
    "            ops_stack.append(token)\n",
    "            \n",
    "    # While there are operators on the operator stack, pop them to the output stack       \n",
    "    while ops_stack:\n",
    "        out_stack.append(ops_stack.pop())\n",
    "    return out_stack"
   ]
  },
  {
   "cell_type": "markdown",
   "id": "396b8a20",
   "metadata": {},
   "source": [
    "### 3.2 Postfix Evaluator\n",
    "\n",
    "Finally we need a means to calculate the integer result from our postfix notation. This is trivial as we now simply pop the values from the output and if we have an operator and pair of operands the value is calculated. This value is then placed onto the result stack. If we discover an operand in the traversal this is simply placed back onto the result stack, in preperation for its correct operator to appear. "
   ]
  },
  {
   "cell_type": "code",
   "execution_count": 182,
   "id": "7aa3699f",
   "metadata": {},
   "outputs": [],
   "source": [
    "def evaluate(expression, debug=False):\n",
    "    if debug:\n",
    "        print('POSTFIX: %s' % ' '.join(expression))\n",
    "    stack = []\n",
    "    for token in expression:\n",
    "        if token in ops:\n",
    "            arg2 = stack.pop()\n",
    "            arg1 = stack.pop()\n",
    "            result = ops[token]['op'](arg1, arg2)\n",
    "            stack.append(result)\n",
    "        else:\n",
    "            stack.append(int(token))\n",
    "    return stack.pop()"
   ]
  },
  {
   "cell_type": "markdown",
   "id": "2feb23bd",
   "metadata": {},
   "source": [
    "# 4. Unit Testing\n",
    "\n",
    "Now perform some high-level unit tests on the core functions to check for accuracy"
   ]
  },
  {
   "cell_type": "code",
   "execution_count": 181,
   "id": "140ea56f",
   "metadata": {},
   "outputs": [],
   "source": [
    "# 1. Check the calculations are correct by running a number of assertions\n",
    "assert ops['*']['op'](1,2) == 2\n",
    "assert ops['/']['op'](1,2) == 0.5\n",
    "assert ops['+']['op'](1,2) == 3\n",
    "assert ops['-']['op'](1,2) == -1"
   ]
  },
  {
   "cell_type": "code",
   "execution_count": 179,
   "id": "83162f3b",
   "metadata": {},
   "outputs": [
    {
     "data": {
      "text/plain": [
       "0.5"
      ]
     },
     "execution_count": 179,
     "metadata": {},
     "output_type": "execute_result"
    }
   ],
   "source": [
    "ops['/']['op'](1,2)"
   ]
  },
  {
   "cell_type": "markdown",
   "id": "82e67770",
   "metadata": {},
   "source": [
    "# 4. Solution Output\n",
    "Next I show the actual calculated output for both a set of local expressions to finally loading a set of expressions from a file and testing the output.\n",
    "\n",
    "\n",
    "## 4.1 Local Input\n",
    "\n",
    "Let's take a few examples to show the algorithm working in the notebook cells"
   ]
  },
  {
   "cell_type": "code",
   "execution_count": 183,
   "id": "9577866c",
   "metadata": {},
   "outputs": [
    {
     "name": "stdout",
     "output_type": "stream",
     "text": [
      "Expected [3] Calculated [3] Expression [1 + 2]\n",
      "Expected [9] Calculated [9] Expression [1 + 2 * 4]\n",
      "Expected [7] Calculated [7.451612903225806] Expression [1 + 3 * ( 4 * 50 ) / ( 99 - 6 )]\n",
      "Expected [43] Calculated [43.791666666666664] Expression [4 + ( 4 * 2 ) / ( 1 + 2 ) * 1 + 33 / ( 8 / 9 )]\n"
     ]
    }
   ],
   "source": [
    "expression1 = '1 + 2'\n",
    "expression2 = '1 + 2 * 4'\n",
    "expression3 = '1 + 3 * ( 4 * 50 ) / ( 99 - 6 )'\n",
    "expression4 = '4 + ( 4 * 2 ) / ( 1 + 2 ) * 1 + 33 / ( 8 / 9 )'\n",
    "\n",
    "print('Expected [%s] Calculated [%s] Expression [%s]' % ('3', evaluate(algo(expression1)), expression1))\n",
    "print('Expected [%s] Calculated [%s] Expression [%s]' % ('9', evaluate(algo(expression2)), expression2))\n",
    "print('Expected [%s] Calculated [%s] Expression [%s]' % ('7', evaluate(algo(expression3)), expression3))\n",
    "print('Expected [%s] Calculated [%s] Expression [%s]' % ('43',evaluate(algo(expression4)), expression4))"
   ]
  },
  {
   "cell_type": "code",
   "execution_count": 150,
   "id": "cb69090a",
   "metadata": {},
   "outputs": [
    {
     "data": {
      "text/plain": [
       "7"
      ]
     },
     "execution_count": 150,
     "metadata": {},
     "output_type": "execute_result"
    }
   ],
   "source": [
    "int(1 + 3 * ( 4 * 50 ) / ( 99 - 6 ))"
   ]
  },
  {
   "cell_type": "code",
   "execution_count": 53,
   "id": "d9e6f5e4",
   "metadata": {},
   "outputs": [
    {
     "ename": "ZeroDivisionError",
     "evalue": "division by zero",
     "output_type": "error",
     "traceback": [
      "\u001b[0;31m---------------------------------------------------------------------------\u001b[0m",
      "\u001b[0;31mZeroDivisionError\u001b[0m                         Traceback (most recent call last)",
      "\u001b[0;32m/var/folders/22/ljd7j8196fd1s1bq8nf_cmz80000gn/T/ipykernel_4849/1834129630.py\u001b[0m in \u001b[0;36m<module>\u001b[0;34m\u001b[0m\n\u001b[0;32m----> 1\u001b[0;31m \u001b[0mint\u001b[0m\u001b[0;34m(\u001b[0m\u001b[0;36m33\u001b[0m\u001b[0;34m)\u001b[0m\u001b[0;34m/\u001b[0m\u001b[0mint\u001b[0m\u001b[0;34m(\u001b[0m\u001b[0;36m0.8888888888888888\u001b[0m\u001b[0;34m)\u001b[0m\u001b[0;34m\u001b[0m\u001b[0;34m\u001b[0m\u001b[0m\n\u001b[0m",
      "\u001b[0;31mZeroDivisionError\u001b[0m: division by zero"
     ]
    }
   ],
   "source": [
    "class AlgoTest:\n",
    "    \n",
    "    def __init__(self, expression, expected):\n",
    "        self.expression = expression\n",
    "        self.expected = expected\n",
    "        \n",
    "    def test():\n",
    "        if self.expected == evaluate(algo(self.expression)):\n",
    "            return calculated, 'True'\n",
    "        else:\n",
    "            return 'False'\n",
    "        "
   ]
  }
 ],
 "metadata": {
  "kernelspec": {
   "display_name": "Python 3 (ipykernel)",
   "language": "python",
   "name": "python3"
  },
  "language_info": {
   "codemirror_mode": {
    "name": "ipython",
    "version": 3
   },
   "file_extension": ".py",
   "mimetype": "text/x-python",
   "name": "python",
   "nbconvert_exporter": "python",
   "pygments_lexer": "ipython3",
   "version": "3.9.6"
  }
 },
 "nbformat": 4,
 "nbformat_minor": 5
}
