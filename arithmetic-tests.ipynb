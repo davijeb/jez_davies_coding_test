{
 "cells": [
  {
   "cell_type": "code",
   "execution_count": 90,
   "id": "2ff36055",
   "metadata": {},
   "outputs": [],
   "source": [
    "import unittest\n",
    "from algo import ops, algo, evaluate # import the variables and methods from the python library"
   ]
  },
  {
   "cell_type": "markdown",
   "id": "033491ab",
   "metadata": {},
   "source": [
    "# 1. Testing\n",
    "\n",
    "Python has a <b>unittest</b> library build into the standard packages. \n",
    "\n",
    "It's a basic test harness but has everything I need to test all aspects of the \n",
    "calculator, algorithm and evaluator.\n",
    "\n",
    "There are a series of test classes defined and when running the final cell it will\n",
    "execute all the stated test methods.\n"
   ]
  },
  {
   "cell_type": "markdown",
   "id": "4c13bb23",
   "metadata": {},
   "source": [
    "## 1.1 Calculator Test"
   ]
  },
  {
   "cell_type": "code",
   "execution_count": 91,
   "id": "16f3b4c4",
   "metadata": {},
   "outputs": [],
   "source": [
    "\"\"\"\n",
    "The initial test is to check the lambda functions operate as expected\n",
    "for all four supported operators.\n",
    "\"\"\"\n",
    "class CalculatorTest(unittest.TestCase):\n",
    "    \n",
    "    def test_multiply(self):\n",
    "        \"\"\"\n",
    "        Test that multiplying 10 and 2 returns 20.\n",
    "        \"\"\"\n",
    "        self.assertEqual(ops['*']['op'](10,2), 20)\n",
    "        \"\"\"\n",
    "        Also test multiplication is commutative\n",
    "        \"\"\"\n",
    "        self.assertEqual(ops['*']['op'](2,10), 20)\n",
    "\n",
    "    \n",
    "    def test_divide(self):\n",
    "        \"\"\"\n",
    "        Test that dividing 10 by 5 returns 2.\n",
    "        \"\"\"\n",
    "        self.assertEqual(ops['/']['op'](10,5), 2)\n",
    "    \n",
    "    def test_add(self):\n",
    "        \"\"\"\n",
    "        Test that adding 1 and 2 return 3.\n",
    "        \"\"\"\n",
    "        self.assertEqual(ops['+']['op'](1,2), 3)\n",
    "\n",
    "    def test_subtract(self):\n",
    "        \"\"\"\n",
    "        Test that subtracting 10 from 21 returns 11.\n",
    "        \"\"\"\n",
    "        self.assertEqual(ops['-']['op'](21,10), 11)"
   ]
  },
  {
   "cell_type": "markdown",
   "id": "5a4aac14",
   "metadata": {},
   "source": [
    "## 1.2 Algorithm Test"
   ]
  },
  {
   "cell_type": "code",
   "execution_count": 92,
   "id": "91b38e11",
   "metadata": {},
   "outputs": [],
   "source": [
    "\"\"\"\n",
    "The algorithm test checks the infix to postfix expression\n",
    "parser works as expected.\n",
    "\n",
    "Note: The assumption is that the infix generator is stable\n",
    "and produces space delimited operator/operand/parenthesis expressions.\n",
    "\n",
    "I have ommitted all the additional checks such as operands being of\n",
    "non-integer type, parsing expressions that have multiple spaces or no\n",
    "spaces and for infix expressions with postfix like structure, such as\n",
    "1 + 2 +.\n",
    "\"\"\"\n",
    "class AlgoTest(unittest.TestCase):\n",
    "    \n",
    "    def test_postfix1(self):\n",
    "        self.assertEqual(' '.join(algo('1 + 2')),'1 2 +')\n",
    "    \n",
    "    def test_postfix2(self):\n",
    "        self.assertEqual(' '.join(algo('1 + 2 * 3 / 7')),'1 2 3 * 7 / +')\n",
    "        \n",
    "    def test_postfix3(self):\n",
    "        self.assertEqual(' '.join(algo('3 / 7 * ( ( 1 + 3 * 8 ) * ( 9 + 2 ) )')),'3 7 / 1 3 8 * + 9 2 + * *')\n",
    "        \n",
    "    def test_mismatched_parenthesis(self):\n",
    "        with self.assertRaises(Exception) as context:\n",
    "            evaluate(algo('( 1 + 2'))"
   ]
  },
  {
   "cell_type": "markdown",
   "id": "01493a71",
   "metadata": {},
   "source": [
    "## 1.3 Evaluator Test"
   ]
  },
  {
   "cell_type": "code",
   "execution_count": 93,
   "id": "08becd6d",
   "metadata": {},
   "outputs": [],
   "source": [
    "\"\"\"\n",
    "If the calculator and algo parser tests pass I can move on to\n",
    "testing he expression output is as expected.\n",
    "\n",
    "I have selected a handful of expressions that start with simple\n",
    "expressions and move to more complex forms.\n",
    "\"\"\"\n",
    "class EvaluatorTest(unittest.TestCase):\n",
    "    \n",
    "    def test_algo1(self):\n",
    "        self.assertEqual(evaluate(algo('1 + 2')),3)\n",
    "\n",
    "    def test_algo2(self):\n",
    "        self.assertEqual(evaluate(algo('1 + 2 * 3')),7)\n",
    "        \n",
    "    def test_algo3(self):\n",
    "        self.assertEqual(evaluate(algo('1 + 2 * 3 / ( 8 + 8 )')),1)\n",
    "        \n",
    "    def test_algo4(self):\n",
    "        self.assertEqual(evaluate(algo('4 + ( 4 * 2 ) / ( 1 + 2 ) * 1 + 33 / ( 8 / 9 )')),43)\n",
    "    \n",
    "    \"\"\"\n",
    "    Check mismatched parenthesis again to check the evaluate function\n",
    "    does not swallow the exceotion as we want this to be popped to the \n",
    "    top of the exception stack.\n",
    "    \"\"\"\n",
    "    def test_algo_mismatched_parenthesis(self):\n",
    "        with self.assertRaises(Exception) as context:\n",
    "            evaluate(algo('(1 + 2'))"
   ]
  },
  {
   "cell_type": "markdown",
   "id": "4e513a28",
   "metadata": {},
   "source": [
    "## 1.4 File Test"
   ]
  },
  {
   "cell_type": "code",
   "execution_count": 94,
   "id": "533fd499",
   "metadata": {},
   "outputs": [],
   "source": [
    "\"\"\"\n",
    "The final test loads a set of expressions and expected values from a local file.\n",
    "Each expression parsed, evaluated and compared to its expected result.\n",
    "\"\"\"\n",
    "\n",
    "class FileTest(unittest.TestCase):\n",
    "    def setUp(self):\n",
    "        self.testdata = open('input.csv').readlines()\n",
    "        \n",
    "    def test_file(self):\n",
    "         for i,line in enumerate(self.testdata):\n",
    "            tupl = line.replace('\\n','').split(',')\n",
    "            with self.subTest(i=i):\n",
    "                self.assertEqual(evaluate(algo(tupl[0])),int(tupl[1]))"
   ]
  },
  {
   "cell_type": "markdown",
   "id": "33701bbb",
   "metadata": {},
   "source": [
    "## 1.5 Run Tests"
   ]
  },
  {
   "cell_type": "code",
   "execution_count": 95,
   "id": "cbe45ad0",
   "metadata": {},
   "outputs": [
    {
     "name": "stderr",
     "output_type": "stream",
     "text": [
      "/var/folders/22/ljd7j8196fd1s1bq8nf_cmz80000gn/T/ipykernel_9354/3206625524.py:8: ResourceWarning: unclosed file <_io.TextIOWrapper name='input.csv' mode='r' encoding='UTF-8'>\n",
      "  self.testdata = open('input.csv').readlines()\n",
      "ResourceWarning: Enable tracemalloc to get the object allocation traceback\n",
      "----------------------------------------------------------------------\n",
      "Ran 25 tests in 0.005s\n",
      "\n",
      "OK\n"
     ]
    }
   ],
   "source": [
    "\"\"\"\n",
    "Running this cell you will run all the prior tests and display any test failures\n",
    "\"\"\"\n",
    "test = unittest.main(argv=['first-arg-is-ignored'], exit=False, verbosity=0)"
   ]
  }
 ],
 "metadata": {
  "kernelspec": {
   "display_name": "Python 3 (ipykernel)",
   "language": "python",
   "name": "python3"
  },
  "language_info": {
   "codemirror_mode": {
    "name": "ipython",
    "version": 3
   },
   "file_extension": ".py",
   "mimetype": "text/x-python",
   "name": "python",
   "nbconvert_exporter": "python",
   "pygments_lexer": "ipython3",
   "version": "3.9.6"
  }
 },
 "nbformat": 4,
 "nbformat_minor": 5
}
