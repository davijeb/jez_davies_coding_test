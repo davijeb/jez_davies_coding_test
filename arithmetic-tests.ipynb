{
 "cells": [
  {
   "cell_type": "code",
   "execution_count": 60,
   "id": "0bfbc297",
   "metadata": {},
   "outputs": [],
   "source": [
    "import unittest\n",
    "from algo import ops, algo, evaluate"
   ]
  },
  {
   "cell_type": "markdown",
   "id": "033491ab",
   "metadata": {},
   "source": [
    "# 1. Testing\n"
   ]
  },
  {
   "cell_type": "code",
   "execution_count": 61,
   "id": "7cb1aa34",
   "metadata": {},
   "outputs": [],
   "source": [
    "class FunctionTest(unittest.TestCase):\n",
    "    \n",
    "    def test_multiply(self):\n",
    "        \"\"\"\n",
    "        Test that multiplying 10 and 2 returns 20.\n",
    "        Also test the multiplication is commutative\n",
    "        \"\"\"\n",
    "        self.assertEqual(ops['*']['op'](10,2), 20)\n",
    "        self.assertEqual(ops['*']['op'](2,10), 20)\n",
    "\n",
    "    \n",
    "    def test_divide(self):\n",
    "        \"\"\"\n",
    "        Test that dividing 10 by 5 returns 2.\n",
    "        \"\"\"\n",
    "        self.assertEqual(ops['/']['op'](10,5), 2)\n",
    "    \n",
    "    def test_add(self):\n",
    "        \"\"\"\n",
    "        Test that adding 1 and 2 return 3.\n",
    "        \"\"\"\n",
    "        self.assertEqual(ops['+']['op'](1,2), 3)\n",
    "\n",
    "    def test_subtract(self):\n",
    "        \"\"\"\n",
    "        Test that subtracting 10 from 21 returns 11.\n",
    "        \"\"\"\n",
    "        self.assertEqual(ops['-']['op'](21,10), 11)"
   ]
  },
  {
   "cell_type": "code",
   "execution_count": 62,
   "id": "2a02921f",
   "metadata": {},
   "outputs": [],
   "source": [
    "class ExpressionTest(unittest.TestCase):\n",
    "    \n",
    "    def test_postfix1(self):\n",
    "        self.assertEqual(' '.join(algo('1 + 2')),'1 2 +')\n",
    "    \n",
    "    def test_postfix2(self):\n",
    "        self.assertEqual(' '.join(algo('1 + 2 * 3 / 7')),'1 2 3 * 7 / +')\n",
    "        \n",
    "    def test_postfix3(self):\n",
    "        self.assertEqual(' '.join(algo('3 / 7 * ( ( 1 + 3 * 8 ) * ( 9 + 2 ) )')),'3 7 / 1 3 8 * + 9 2 + * *')"
   ]
  },
  {
   "cell_type": "code",
   "execution_count": 63,
   "id": "71fb8d44",
   "metadata": {},
   "outputs": [],
   "source": [
    "class AlgoTest(unittest.TestCase):\n",
    "    \n",
    "    def test_algo1(self):\n",
    "        self.assertEqual(evaluate(algo('1 + 2')),3)\n",
    "\n",
    "    def test_algo2(self):\n",
    "        self.assertEqual(evaluate(algo('1 + 2 * 3')),7)\n",
    "        \n",
    "    def test_algo3(self):\n",
    "        self.assertEqual(evaluate(algo('1 + 2 * 3 / ( 8 + 8 )')),1)\n",
    "        \n",
    "    def test_algo4(self):\n",
    "        self.assertEqual(evaluate(algo('4 + ( 4 * 2 ) / ( 1 + 2 ) * 1 + 33 / ( 8 / 9 )')),43)\n",
    "        \n",
    "    def test_mismatched_parenthesis(self):\n",
    "        with self.assertRaises(Exception) as context:\n",
    "            evaluate(algo('(1 + 2'))"
   ]
  },
  {
   "cell_type": "code",
   "execution_count": 64,
   "id": "c6f1da2b",
   "metadata": {},
   "outputs": [],
   "source": [
    "class FileTest(unittest.TestCase):\n",
    "    def setUp(self):\n",
    "        self.testdata = open('input.csv').readlines()\n",
    "        \n",
    "    def test_file(self):\n",
    "         for i,line in enumerate(self.testdata):\n",
    "            tupl = line.replace('\\n','').split(',')\n",
    "            with self.subTest(i=i):\n",
    "                self.assertEqual(evaluate(algo(tupl[0])),int(tupl[1]))"
   ]
  },
  {
   "cell_type": "code",
   "execution_count": 65,
   "id": "2dca9043",
   "metadata": {},
   "outputs": [
    {
     "name": "stderr",
     "output_type": "stream",
     "text": [
      "/var/folders/22/ljd7j8196fd1s1bq8nf_cmz80000gn/T/ipykernel_9354/4134242358.py:3: ResourceWarning: unclosed file <_io.TextIOWrapper name='input.csv' mode='r' encoding='UTF-8'>\n",
      "  self.testdata = open('input.csv').readlines()\n",
      "ResourceWarning: Enable tracemalloc to get the object allocation traceback\n",
      "----------------------------------------------------------------------\n",
      "Ran 13 tests in 0.003s\n",
      "\n",
      "OK\n"
     ]
    }
   ],
   "source": [
    "test = unittest.main(argv=['first-arg-is-ignored'], exit=False, verbosity=0)"
   ]
  }
 ],
 "metadata": {
  "kernelspec": {
   "display_name": "Python 3 (ipykernel)",
   "language": "python",
   "name": "python3"
  },
  "language_info": {
   "codemirror_mode": {
    "name": "ipython",
    "version": 3
   },
   "file_extension": ".py",
   "mimetype": "text/x-python",
   "name": "python",
   "nbconvert_exporter": "python",
   "pygments_lexer": "ipython3",
   "version": "3.9.6"
  }
 },
 "nbformat": 4,
 "nbformat_minor": 5
}
