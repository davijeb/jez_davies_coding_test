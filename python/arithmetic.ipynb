{
 "cells": [
  {
   "cell_type": "markdown",
   "id": "940a66a3",
   "metadata": {},
   "source": [
    "# 1. Simple Integer Arithmetic Problem\n",
    "\n",
    "\n",
    "### 1.1 Problem Statement\n",
    "Write a program that can parse a simple integer arithmetic expression to give an integer result\n",
    "\n",
    "### 1.2 Example\n",
    "\"1 + 2 * 3\" should yield the answer 7.\n",
    "\n",
    "### 1.3 Setup\n",
    "You must be able to run the program such that you can provide the name of a file with one expression per line and for each line output \"<expr> = <answer>\".\n",
    "    \n",
    "### 1.4 Conditions\n",
    "The expression should support operators +, -, *, /, integers, parentheses.\n",
    "\n",
    "Implement and test your solution to illustrate how you would implement production code.\n",
    "\n",
    "You may use 3rd party libraries to implement parts of your solution (e.g. a parser library) but you should not use a 3rd party library that provides the entire solution.\n",
    "\n",
    "You may implement this in any language, ideally .NET, with F#, but any is fine\n",
    "### 1.5 Submission\n",
    "Please submit via GitHub or a similar repository from which the solution can be downloaded."
   ]
  },
  {
   "cell_type": "markdown",
   "id": "28c338cf",
   "metadata": {},
   "source": [
    "# 2. Solution Statement\n",
    "\n",
    "The ask is to support a subset of all available mathematical operators. \n",
    "\n",
    "## 2.1 Operator Precedence\n",
    "\n",
    "In mathematics, the order of the operators in an expression is important. For example:\n",
    "\n",
    "- expression: 1 + 2 * 3\n",
    "\n",
    "With no formal rule on operator precedence, this could be evaluated in two ways:\n",
    "\n",
    "- method 1: Add 1 to 2 to give 3, then multiple 3 by 3. Answer 9\n",
    "- method 2: Multiple 2 by 3 to give 6, then add 1. Answer 7.\n",
    "\n",
    "Method 2 is the correct approach as it follows the <b>operator precedence</b> rule, which is in itself a collection of rules that state the order precedence. They are as follows:\n",
    "    \n",
    "- exponentiation and root extraction\n",
    "- multiplication and division\n",
    "- addition and subtraction\n",
    "\n",
    "## 2.2 Expression Notation\n",
    "\n",
    "In the expression example we are given 1 + 2 * 3. This notation is called <b>infix</b>, an expression of the form a op b. When an operator is between every pair of operands. \n",
    "This is the traditional way we create mathematical expressions, but it is difficult for a computer to use when handling operator precedence and dealing with parenthesis. A more suitable notation is called <b>postfix</b> expression. The <b>postfix</b> expression is of the form a b op. When an operator is followed for every pair of operands. This notation is easier todeal with as it allows the <b>operands</b> and <b>operators</b> to be added in stack like structures in a specific order. This means that \"1 + 1\" becomes \"1 1 +\""
   ]
  },
  {
   "cell_type": "markdown",
   "id": "e4b8de34",
   "metadata": {},
   "source": [
    "## 2.3 Expression Conversion\n",
    "\n",
    "The mechanism to create a postfix notation from an infix notation was developed by <b>Edsger Dijkstra</b> in 1961 and can be found in the following paper https://www.cs.utexas.edu/~EWD/MCReps/MR35.PDF\n",
    "\n",
    "As previously mentioned, this approach uses stacks to reverse the order of the operators in the expression.\n",
    "\n",
    "### 2.4.1 Assumptions\n",
    "\n",
    "- The infix notation is parseable and in a consistent format\n",
    "- The expression generator adds a single space between all values, operators and parenthesis"
   ]
  },
  {
   "cell_type": "markdown",
   "id": "6aaf0699",
   "metadata": {},
   "source": [
    "# 3 Solution Implementation \n",
    "\n",
    "The following operator dictionary servers dual purposes. It will return the operator precedence when asked and will also provide a lambda function which is ultimately used to calculate the integer values. The ask is to support a subset of all available mathematical operators (*,/,+,-)."
   ]
  },
  {
   "cell_type": "code",
   "execution_count": 4,
   "id": "1e32196a",
   "metadata": {},
   "outputs": [],
   "source": [
    "ops = {\n",
    "    '*': {'precedence': 2,'op': lambda x,y: x * y},\n",
    "    '/': {'precedence': 2,'op': lambda x,y: x / y},\n",
    "    '+': {'precedence': 1,'op': lambda x,y: x + y},\n",
    "    '-': {'precedence': 1,'op': lambda x,y: x -  y},\n",
    "    '(': {'precedence': 0},\n",
    "}"
   ]
  },
  {
   "cell_type": "markdown",
   "id": "84e5c3e1",
   "metadata": {},
   "source": [
    "### 3.1 Shunting Yard Algorithm\n",
    "\n",
    "This is the algorithm I will use to perform the expression translation to <b>postfix</b>. The details of the algorithm are illuminated in the comments that describe each step. Essentially it is forward traversal through all the tokens in the expression string, assigning them to either an operator stack or an output stack (holds the operands). Then, using the operator precedence rule some operators and popped to the end of the output stack and this is also the case when dealing with parenthesis, as they have a higher precedence than the four operators we are using. This gives the algorithm its \"shunting yard\" name as it is similar to the method in which trains and moved to seperate tracks. I have also added a check to ensure there are matching opening/closing parenthesis."
   ]
  },
  {
   "cell_type": "code",
   "execution_count": 3,
   "id": "e2261191",
   "metadata": {},
   "outputs": [],
   "source": [
    "LH = '(' \n",
    "RH = ')'\n",
    "\n",
    "def algo(expression, debug = False):\n",
    "    \n",
    "    out_stack = []\n",
    "    ops_stack = []\n",
    "    \n",
    "    if debug:\n",
    "        print('INFIX:', expression)\n",
    "    \n",
    "    # Check matching parenthesis\n",
    "    lhs = sum(c == '(' for c in expression)\n",
    "    rhs = sum(c == ')' for c in expression)\n",
    "    if lhs != rhs:\n",
    "        raise Exception('Unable to parse INFIX due to unmatched parenthesis')\n",
    "    \n",
    "    # While there are expression tokens to be read\n",
    "    for token in expression.split(' '):\n",
    "        \n",
    "        # If it's a number add it to the output stack\n",
    "        if token.lstrip(\"-\").isdigit():\n",
    "            out_stack.append(token)\n",
    "            \n",
    "        # If it's a left bracket\n",
    "        elif token == LH:\n",
    "            # Push it onto the operator stack\n",
    "            ops_stack.append(token)\n",
    "            \n",
    "        # If it's a right bracket\n",
    "        elif token == RH:\n",
    "            # While there's not a left bracket at the top of the stack:\n",
    "            while len(ops_stack) > 0 and ops_stack[-1] != LH:\n",
    "                # Pop operators from the operator stack onto the output stack\n",
    "                out_stack.append(ops_stack.pop())\n",
    "            # Pop the left bracket from the operator stack and discard it\n",
    "            ops_stack.pop()\n",
    "            \n",
    "        # If it's an operator\n",
    "        elif token in ops:\n",
    "            # While there's an operator on the top of the operator stack with greater precedence\n",
    "            while len(ops_stack) > 0 and ops[ops_stack[-1]]['precedence'] >= ops[token]['precedence']:\n",
    "                # Pop operators from the operator stack onto the output stack\n",
    "                out_stack.append(ops_stack.pop())\n",
    "            # Push the current operator onto the stack\n",
    "            ops_stack.append(token)\n",
    "            \n",
    "    # While there are operators on the operator stack, pop them to the output stack       \n",
    "    while ops_stack:\n",
    "        out_stack.append(ops_stack.pop())\n",
    "    return out_stack"
   ]
  },
  {
   "cell_type": "markdown",
   "id": "d87a0ca8",
   "metadata": {},
   "source": [
    "### 3.2 Postfix Evaluator\n",
    "\n",
    "Finally we need a means to calculate the integer result from our postfix notation. This is trivial as we now simply pop the values from the output and if we have an operator and pair of operands the value is calculated. This value is then placed onto the result stack. If we discover an operand in the traversal this is simply placed back onto the result stack in anticipation of its correct operator. This ensures the operators act upon the correct operands as established by the shunting-yard algo."
   ]
  },
  {
   "cell_type": "code",
   "execution_count": 7,
   "id": "9520e457",
   "metadata": {},
   "outputs": [],
   "source": [
    "def evaluate(expression, debug=False):\n",
    "    if debug:\n",
    "        print('POSTFIX: %s' % ' '.join(expression))\n",
    "    stack = []\n",
    "    for token in expression:\n",
    "        if token in ops:\n",
    "            arg2 = stack.pop()\n",
    "            arg1 = stack.pop()\n",
    "            print(arg1, ' - ', arg2)\n",
    "            result = ops[token]['op'](arg1, arg2)\n",
    "            stack.append(result)\n",
    "        else:\n",
    "            stack.append(int(token))\n",
    "    return stack.pop()"
   ]
  }
 ],
 "metadata": {
  "kernelspec": {
   "display_name": "Python 3 (ipykernel)",
   "language": "python",
   "name": "python3"
  },
  "language_info": {
   "codemirror_mode": {
    "name": "ipython",
    "version": 3
   },
   "file_extension": ".py",
   "mimetype": "text/x-python",
   "name": "python",
   "nbconvert_exporter": "python",
   "pygments_lexer": "ipython3",
   "version": "3.9.6"
  }
 },
 "nbformat": 4,
 "nbformat_minor": 5
}
